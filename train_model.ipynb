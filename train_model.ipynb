{
 "cells": [
  {
   "cell_type": "code",
   "execution_count": 10,
   "id": "d26aa9eb-bbdc-4d18-8bad-4abacc86a6ae",
   "metadata": {},
   "outputs": [],
   "source": [
    "# import pandas as pd\n",
    "# from sklearn.model_selection import train_test_split\n",
    "# from sklearn.preprocessing import StandardScaler, LabelEncoder\n",
    "# from keras.models import Sequential\n",
    "# from keras.layers import Dense\n",
    "# # import joblib\n",
    "\n",
    "# # 1. Load dataset\n",
    "# data = pd.read_csv(\"data/Churn_Modelling.csv\")\n",
    "# # data=pd.read_csv(\"C:\\\\Users\\\\vinuthna chowdary\\\\OneDrive\\\\Desktop\\\\TF_Folder\\\\Employe_Exit_Demo\")\n",
    "\n",
    "# # 2. Encode categorical variables\n",
    "# le = LabelEncoder()\n",
    "# data['Gender'] = le.fit_transform(data['Gender'])  # Male=1, Female=0\n",
    "# data = pd.get_dummies(data, columns=['Geography'], drop_first=True, dtype=int)\n",
    "\n",
    "# # 3. Drop unnecessary columns\n",
    "# data.drop(['RowNumber', 'Surname'], axis=1, inplace=True)\n",
    "\n",
    "# # 4. Separate features and target\n",
    "# X = data.iloc[:, :-1].values\n",
    "# y = data.iloc[:, -1].values\n",
    "\n",
    "# # 5. Scale features\n",
    "# sc = StandardScaler()\n",
    "# X = sc.fit_transform(X)\n",
    "\n",
    "# # 6. Split into train/test sets\n",
    "# X_train, X_test, y_train, y_test = train_test_split(X, y, test_size=0.2, random_state=42)\n",
    "\n",
    "# # 7. Build model\n",
    "# model = Sequential()\n",
    "# model.add(Dense(units=64, activation='relu', input_dim=X_train.shape[1]))\n",
    "# model.add(Dense(units=32, activation='relu'))\n",
    "# model.add(Dense(1, activation='sigmoid'))\n",
    "\n",
    "# model.compile(optimizer='adam', loss='binary_crossentropy', metrics=['accuracy'])\n",
    "\n",
    "# # 8. Train model\n",
    "# model.fit(X_train, y_train, epochs=50, batch_size=32, validation_split=0.1)\n",
    "\n",
    "# # 9. Save model and scaler\n",
    "# model.save(\"models/employee_exit_model.keras\")\n",
    "# # model.save(\"models/employee_exit_model.h5\")\n",
    "# # joblib.dump(sc, \"models/scaler.save\")\n",
    "\n",
    "# print(\"✅ Model and scaler saved successfully!\")\n"
   ]
  },
  {
   "cell_type": "code",
   "execution_count": 8,
   "id": "325db7d1-585e-442a-b725-7d93ee7e605b",
   "metadata": {},
   "outputs": [],
   "source": [
    "# X.shape"
   ]
  },
  {
   "cell_type": "code",
   "execution_count": 9,
   "id": "ee057887-ac3a-4e7d-8177-bb8bda3a50a5",
   "metadata": {},
   "outputs": [],
   "source": [
    "# data.columns"
   ]
  },
  {
   "cell_type": "code",
   "execution_count": 21,
   "id": "5f2100f5-7027-498f-9f4c-b0bbbcd596e6",
   "metadata": {},
   "outputs": [
    {
     "name": "stdout",
     "output_type": "stream",
     "text": [
      "Epoch 1/50\n"
     ]
    },
    {
     "name": "stderr",
     "output_type": "stream",
     "text": [
      "C:\\Users\\vinuthna chowdary\\anaconda3\\Lib\\site-packages\\keras\\src\\layers\\core\\dense.py:92: UserWarning: Do not pass an `input_shape`/`input_dim` argument to a layer. When using Sequential models, prefer using an `Input(shape)` object as the first layer in the model instead.\n",
      "  super().__init__(activity_regularizer=activity_regularizer, **kwargs)\n"
     ]
    },
    {
     "name": "stdout",
     "output_type": "stream",
     "text": [
      "\u001b[1m225/225\u001b[0m \u001b[32m━━━━━━━━━━━━━━━━━━━━\u001b[0m\u001b[37m\u001b[0m \u001b[1m3s\u001b[0m 4ms/step - accuracy: 0.8087 - loss: 0.4603 - val_accuracy: 0.8375 - val_loss: 0.4015\n",
      "Epoch 2/50\n",
      "\u001b[1m225/225\u001b[0m \u001b[32m━━━━━━━━━━━━━━━━━━━━\u001b[0m\u001b[37m\u001b[0m \u001b[1m1s\u001b[0m 3ms/step - accuracy: 0.8399 - loss: 0.3979 - val_accuracy: 0.8500 - val_loss: 0.3684\n",
      "Epoch 3/50\n",
      "\u001b[1m225/225\u001b[0m \u001b[32m━━━━━━━━━━━━━━━━━━━━\u001b[0m\u001b[37m\u001b[0m \u001b[1m1s\u001b[0m 4ms/step - accuracy: 0.8526 - loss: 0.3692 - val_accuracy: 0.8625 - val_loss: 0.3497\n",
      "Epoch 4/50\n",
      "\u001b[1m225/225\u001b[0m \u001b[32m━━━━━━━━━━━━━━━━━━━━\u001b[0m\u001b[37m\u001b[0m \u001b[1m1s\u001b[0m 4ms/step - accuracy: 0.8547 - loss: 0.3592 - val_accuracy: 0.8562 - val_loss: 0.3470\n",
      "Epoch 5/50\n",
      "\u001b[1m225/225\u001b[0m \u001b[32m━━━━━━━━━━━━━━━━━━━━\u001b[0m\u001b[37m\u001b[0m \u001b[1m1s\u001b[0m 4ms/step - accuracy: 0.8532 - loss: 0.3553 - val_accuracy: 0.8550 - val_loss: 0.3429\n",
      "Epoch 6/50\n",
      "\u001b[1m225/225\u001b[0m \u001b[32m━━━━━━━━━━━━━━━━━━━━\u001b[0m\u001b[37m\u001b[0m \u001b[1m1s\u001b[0m 5ms/step - accuracy: 0.8567 - loss: 0.3513 - val_accuracy: 0.8575 - val_loss: 0.3491\n",
      "Epoch 7/50\n",
      "\u001b[1m225/225\u001b[0m \u001b[32m━━━━━━━━━━━━━━━━━━━━\u001b[0m\u001b[37m\u001b[0m \u001b[1m1s\u001b[0m 4ms/step - accuracy: 0.8557 - loss: 0.3496 - val_accuracy: 0.8550 - val_loss: 0.3431\n",
      "Epoch 8/50\n",
      "\u001b[1m225/225\u001b[0m \u001b[32m━━━━━━━━━━━━━━━━━━━━\u001b[0m\u001b[37m\u001b[0m \u001b[1m1s\u001b[0m 5ms/step - accuracy: 0.8569 - loss: 0.3477 - val_accuracy: 0.8438 - val_loss: 0.3465\n",
      "Epoch 9/50\n",
      "\u001b[1m225/225\u001b[0m \u001b[32m━━━━━━━━━━━━━━━━━━━━\u001b[0m\u001b[37m\u001b[0m \u001b[1m1s\u001b[0m 6ms/step - accuracy: 0.8585 - loss: 0.3457 - val_accuracy: 0.8413 - val_loss: 0.3489\n",
      "Epoch 10/50\n",
      "\u001b[1m225/225\u001b[0m \u001b[32m━━━━━━━━━━━━━━━━━━━━\u001b[0m\u001b[37m\u001b[0m \u001b[1m1s\u001b[0m 5ms/step - accuracy: 0.8590 - loss: 0.3443 - val_accuracy: 0.8487 - val_loss: 0.3459\n",
      "Epoch 11/50\n",
      "\u001b[1m225/225\u001b[0m \u001b[32m━━━━━━━━━━━━━━━━━━━━\u001b[0m\u001b[37m\u001b[0m \u001b[1m1s\u001b[0m 5ms/step - accuracy: 0.8587 - loss: 0.3427 - val_accuracy: 0.8550 - val_loss: 0.3419\n",
      "Epoch 12/50\n",
      "\u001b[1m225/225\u001b[0m \u001b[32m━━━━━━━━━━━━━━━━━━━━\u001b[0m\u001b[37m\u001b[0m \u001b[1m1s\u001b[0m 4ms/step - accuracy: 0.8593 - loss: 0.3409 - val_accuracy: 0.8462 - val_loss: 0.3450\n",
      "Epoch 13/50\n",
      "\u001b[1m225/225\u001b[0m \u001b[32m━━━━━━━━━━━━━━━━━━━━\u001b[0m\u001b[37m\u001b[0m \u001b[1m1s\u001b[0m 5ms/step - accuracy: 0.8583 - loss: 0.3412 - val_accuracy: 0.8475 - val_loss: 0.3402\n",
      "Epoch 14/50\n",
      "\u001b[1m225/225\u001b[0m \u001b[32m━━━━━━━━━━━━━━━━━━━━\u001b[0m\u001b[37m\u001b[0m \u001b[1m2s\u001b[0m 7ms/step - accuracy: 0.8597 - loss: 0.3393 - val_accuracy: 0.8487 - val_loss: 0.3418\n",
      "Epoch 15/50\n",
      "\u001b[1m225/225\u001b[0m \u001b[32m━━━━━━━━━━━━━━━━━━━━\u001b[0m\u001b[37m\u001b[0m \u001b[1m2s\u001b[0m 7ms/step - accuracy: 0.8600 - loss: 0.3387 - val_accuracy: 0.8487 - val_loss: 0.3447\n",
      "Epoch 16/50\n",
      "\u001b[1m225/225\u001b[0m \u001b[32m━━━━━━━━━━━━━━━━━━━━\u001b[0m\u001b[37m\u001b[0m \u001b[1m1s\u001b[0m 4ms/step - accuracy: 0.8617 - loss: 0.3385 - val_accuracy: 0.8475 - val_loss: 0.3439\n",
      "Epoch 17/50\n",
      "\u001b[1m225/225\u001b[0m \u001b[32m━━━━━━━━━━━━━━━━━━━━\u001b[0m\u001b[37m\u001b[0m \u001b[1m1s\u001b[0m 3ms/step - accuracy: 0.8632 - loss: 0.3367 - val_accuracy: 0.8413 - val_loss: 0.3425\n",
      "Epoch 18/50\n",
      "\u001b[1m225/225\u001b[0m \u001b[32m━━━━━━━━━━━━━━━━━━━━\u001b[0m\u001b[37m\u001b[0m \u001b[1m1s\u001b[0m 3ms/step - accuracy: 0.8601 - loss: 0.3366 - val_accuracy: 0.8450 - val_loss: 0.3438\n",
      "Epoch 19/50\n",
      "\u001b[1m225/225\u001b[0m \u001b[32m━━━━━━━━━━━━━━━━━━━━\u001b[0m\u001b[37m\u001b[0m \u001b[1m1s\u001b[0m 5ms/step - accuracy: 0.8603 - loss: 0.3344 - val_accuracy: 0.8462 - val_loss: 0.3446\n",
      "Epoch 20/50\n",
      "\u001b[1m225/225\u001b[0m \u001b[32m━━━━━━━━━━━━━━━━━━━━\u001b[0m\u001b[37m\u001b[0m \u001b[1m1s\u001b[0m 5ms/step - accuracy: 0.8610 - loss: 0.3341 - val_accuracy: 0.8425 - val_loss: 0.3479\n",
      "Epoch 21/50\n",
      "\u001b[1m225/225\u001b[0m \u001b[32m━━━━━━━━━━━━━━━━━━━━\u001b[0m\u001b[37m\u001b[0m \u001b[1m1s\u001b[0m 4ms/step - accuracy: 0.8614 - loss: 0.3340 - val_accuracy: 0.8462 - val_loss: 0.3437\n",
      "Epoch 22/50\n",
      "\u001b[1m225/225\u001b[0m \u001b[32m━━━━━━━━━━━━━━━━━━━━\u001b[0m\u001b[37m\u001b[0m \u001b[1m1s\u001b[0m 4ms/step - accuracy: 0.8633 - loss: 0.3323 - val_accuracy: 0.8450 - val_loss: 0.3486\n",
      "Epoch 23/50\n",
      "\u001b[1m225/225\u001b[0m \u001b[32m━━━━━━━━━━━━━━━━━━━━\u001b[0m\u001b[37m\u001b[0m \u001b[1m1s\u001b[0m 4ms/step - accuracy: 0.8603 - loss: 0.3322 - val_accuracy: 0.8413 - val_loss: 0.3443\n",
      "Epoch 24/50\n",
      "\u001b[1m225/225\u001b[0m \u001b[32m━━━━━━━━━━━━━━━━━━━━\u001b[0m\u001b[37m\u001b[0m \u001b[1m1s\u001b[0m 4ms/step - accuracy: 0.8621 - loss: 0.3312 - val_accuracy: 0.8450 - val_loss: 0.3421\n",
      "Epoch 25/50\n",
      "\u001b[1m225/225\u001b[0m \u001b[32m━━━━━━━━━━━━━━━━━━━━\u001b[0m\u001b[37m\u001b[0m \u001b[1m1s\u001b[0m 5ms/step - accuracy: 0.8625 - loss: 0.3311 - val_accuracy: 0.8388 - val_loss: 0.3452\n",
      "Epoch 26/50\n",
      "\u001b[1m225/225\u001b[0m \u001b[32m━━━━━━━━━━━━━━━━━━━━\u001b[0m\u001b[37m\u001b[0m \u001b[1m1s\u001b[0m 4ms/step - accuracy: 0.8625 - loss: 0.3296 - val_accuracy: 0.8313 - val_loss: 0.3443\n",
      "Epoch 27/50\n",
      "\u001b[1m225/225\u001b[0m \u001b[32m━━━━━━━━━━━━━━━━━━━━\u001b[0m\u001b[37m\u001b[0m \u001b[1m1s\u001b[0m 5ms/step - accuracy: 0.8628 - loss: 0.3287 - val_accuracy: 0.8363 - val_loss: 0.3507\n",
      "Epoch 28/50\n",
      "\u001b[1m225/225\u001b[0m \u001b[32m━━━━━━━━━━━━━━━━━━━━\u001b[0m\u001b[37m\u001b[0m \u001b[1m1s\u001b[0m 4ms/step - accuracy: 0.8637 - loss: 0.3283 - val_accuracy: 0.8400 - val_loss: 0.3491\n",
      "Epoch 29/50\n",
      "\u001b[1m225/225\u001b[0m \u001b[32m━━━━━━━━━━━━━━━━━━━━\u001b[0m\u001b[37m\u001b[0m \u001b[1m1s\u001b[0m 3ms/step - accuracy: 0.8639 - loss: 0.3281 - val_accuracy: 0.8375 - val_loss: 0.3452\n",
      "Epoch 30/50\n",
      "\u001b[1m225/225\u001b[0m \u001b[32m━━━━━━━━━━━━━━━━━━━━\u001b[0m\u001b[37m\u001b[0m \u001b[1m1s\u001b[0m 3ms/step - accuracy: 0.8640 - loss: 0.3274 - val_accuracy: 0.8350 - val_loss: 0.3481\n",
      "Epoch 31/50\n",
      "\u001b[1m225/225\u001b[0m \u001b[32m━━━━━━━━━━━━━━━━━━━━\u001b[0m\u001b[37m\u001b[0m \u001b[1m1s\u001b[0m 4ms/step - accuracy: 0.8646 - loss: 0.3271 - val_accuracy: 0.8425 - val_loss: 0.3472\n",
      "Epoch 32/50\n",
      "\u001b[1m225/225\u001b[0m \u001b[32m━━━━━━━━━━━━━━━━━━━━\u001b[0m\u001b[37m\u001b[0m \u001b[1m1s\u001b[0m 4ms/step - accuracy: 0.8650 - loss: 0.3261 - val_accuracy: 0.8413 - val_loss: 0.3493\n",
      "Epoch 33/50\n",
      "\u001b[1m225/225\u001b[0m \u001b[32m━━━━━━━━━━━━━━━━━━━━\u001b[0m\u001b[37m\u001b[0m \u001b[1m1s\u001b[0m 4ms/step - accuracy: 0.8654 - loss: 0.3261 - val_accuracy: 0.8438 - val_loss: 0.3494\n",
      "Epoch 34/50\n",
      "\u001b[1m225/225\u001b[0m \u001b[32m━━━━━━━━━━━━━━━━━━━━\u001b[0m\u001b[37m\u001b[0m \u001b[1m1s\u001b[0m 4ms/step - accuracy: 0.8636 - loss: 0.3245 - val_accuracy: 0.8363 - val_loss: 0.3487\n",
      "Epoch 35/50\n",
      "\u001b[1m225/225\u001b[0m \u001b[32m━━━━━━━━━━━━━━━━━━━━\u001b[0m\u001b[37m\u001b[0m \u001b[1m1s\u001b[0m 4ms/step - accuracy: 0.8643 - loss: 0.3246 - val_accuracy: 0.8363 - val_loss: 0.3528\n",
      "Epoch 36/50\n",
      "\u001b[1m225/225\u001b[0m \u001b[32m━━━━━━━━━━━━━━━━━━━━\u001b[0m\u001b[37m\u001b[0m \u001b[1m1s\u001b[0m 3ms/step - accuracy: 0.8654 - loss: 0.3233 - val_accuracy: 0.8350 - val_loss: 0.3515\n",
      "Epoch 37/50\n",
      "\u001b[1m225/225\u001b[0m \u001b[32m━━━━━━━━━━━━━━━━━━━━\u001b[0m\u001b[37m\u001b[0m \u001b[1m1s\u001b[0m 4ms/step - accuracy: 0.8636 - loss: 0.3243 - val_accuracy: 0.8400 - val_loss: 0.3452\n",
      "Epoch 38/50\n",
      "\u001b[1m225/225\u001b[0m \u001b[32m━━━━━━━━━━━━━━━━━━━━\u001b[0m\u001b[37m\u001b[0m \u001b[1m1s\u001b[0m 4ms/step - accuracy: 0.8656 - loss: 0.3233 - val_accuracy: 0.8388 - val_loss: 0.3522\n",
      "Epoch 39/50\n",
      "\u001b[1m225/225\u001b[0m \u001b[32m━━━━━━━━━━━━━━━━━━━━\u001b[0m\u001b[37m\u001b[0m \u001b[1m1s\u001b[0m 5ms/step - accuracy: 0.8665 - loss: 0.3212 - val_accuracy: 0.8375 - val_loss: 0.3517\n",
      "Epoch 40/50\n",
      "\u001b[1m225/225\u001b[0m \u001b[32m━━━━━━━━━━━━━━━━━━━━\u001b[0m\u001b[37m\u001b[0m \u001b[1m1s\u001b[0m 4ms/step - accuracy: 0.8654 - loss: 0.3205 - val_accuracy: 0.8400 - val_loss: 0.3510\n",
      "Epoch 41/50\n",
      "\u001b[1m225/225\u001b[0m \u001b[32m━━━━━━━━━━━━━━━━━━━━\u001b[0m\u001b[37m\u001b[0m \u001b[1m1s\u001b[0m 5ms/step - accuracy: 0.8675 - loss: 0.3200 - val_accuracy: 0.8413 - val_loss: 0.3510\n",
      "Epoch 42/50\n",
      "\u001b[1m225/225\u001b[0m \u001b[32m━━━━━━━━━━━━━━━━━━━━\u001b[0m\u001b[37m\u001b[0m \u001b[1m1s\u001b[0m 5ms/step - accuracy: 0.8653 - loss: 0.3207 - val_accuracy: 0.8388 - val_loss: 0.3487\n",
      "Epoch 43/50\n",
      "\u001b[1m225/225\u001b[0m \u001b[32m━━━━━━━━━━━━━━━━━━━━\u001b[0m\u001b[37m\u001b[0m \u001b[1m1s\u001b[0m 5ms/step - accuracy: 0.8650 - loss: 0.3200 - val_accuracy: 0.8400 - val_loss: 0.3517\n",
      "Epoch 44/50\n",
      "\u001b[1m225/225\u001b[0m \u001b[32m━━━━━━━━━━━━━━━━━━━━\u001b[0m\u001b[37m\u001b[0m \u001b[1m1s\u001b[0m 4ms/step - accuracy: 0.8651 - loss: 0.3188 - val_accuracy: 0.8438 - val_loss: 0.3513\n",
      "Epoch 45/50\n",
      "\u001b[1m225/225\u001b[0m \u001b[32m━━━━━━━━━━━━━━━━━━━━\u001b[0m\u001b[37m\u001b[0m \u001b[1m1s\u001b[0m 4ms/step - accuracy: 0.8662 - loss: 0.3194 - val_accuracy: 0.8350 - val_loss: 0.3496\n",
      "Epoch 46/50\n",
      "\u001b[1m225/225\u001b[0m \u001b[32m━━━━━━━━━━━━━━━━━━━━\u001b[0m\u001b[37m\u001b[0m \u001b[1m1s\u001b[0m 4ms/step - accuracy: 0.8668 - loss: 0.3165 - val_accuracy: 0.8363 - val_loss: 0.3546\n",
      "Epoch 47/50\n",
      "\u001b[1m225/225\u001b[0m \u001b[32m━━━━━━━━━━━━━━━━━━━━\u001b[0m\u001b[37m\u001b[0m \u001b[1m1s\u001b[0m 4ms/step - accuracy: 0.8678 - loss: 0.3185 - val_accuracy: 0.8438 - val_loss: 0.3515\n",
      "Epoch 48/50\n",
      "\u001b[1m225/225\u001b[0m \u001b[32m━━━━━━━━━━━━━━━━━━━━\u001b[0m\u001b[37m\u001b[0m \u001b[1m1s\u001b[0m 4ms/step - accuracy: 0.8674 - loss: 0.3178 - val_accuracy: 0.8375 - val_loss: 0.3579\n",
      "Epoch 49/50\n",
      "\u001b[1m225/225\u001b[0m \u001b[32m━━━━━━━━━━━━━━━━━━━━\u001b[0m\u001b[37m\u001b[0m \u001b[1m1s\u001b[0m 4ms/step - accuracy: 0.8687 - loss: 0.3163 - val_accuracy: 0.8413 - val_loss: 0.3527\n",
      "Epoch 50/50\n",
      "\u001b[1m225/225\u001b[0m \u001b[32m━━━━━━━━━━━━━━━━━━━━\u001b[0m\u001b[37m\u001b[0m \u001b[1m1s\u001b[0m 3ms/step - accuracy: 0.8671 - loss: 0.3167 - val_accuracy: 0.8450 - val_loss: 0.3552\n",
      "✅ Model and scaler saved successfully!\n"
     ]
    }
   ],
   "source": [
    "import pandas as pd\n",
    "from sklearn.model_selection import train_test_split\n",
    "from sklearn.preprocessing import StandardScaler, LabelEncoder\n",
    "from keras.models import Sequential\n",
    "from keras.layers import Dense\n",
    "import joblib  # To save the scaler\n",
    "\n",
    "# 1. Load dataset\n",
    "data = pd.read_csv(\"data/Churn_Modelling.csv\")\n",
    "\n",
    "# 2. Encode categorical variables\n",
    "# le = LabelEncoder()\n",
    "# data['Gender'] = le.fit_transform(data['Gender'])  # Male=1, Female=0\n",
    "# data = pd.get_dummies(data, columns=['Geography'], drop_first=True, dtype=int)\n",
    "\n",
    "# 3. Drop unnecessary columns\n",
    "data.drop(['RowNumber', 'Surname','Gender','Geography','CustomerId'], axis=1, inplace=True)\n",
    "\n",
    "# 4. Separate features and target\n",
    "X = data.drop('Exited', axis=1).values  # Drop target column\n",
    "y = data['Exited'].values\n",
    "\n",
    "# 5. Scale features\n",
    "sc = StandardScaler()\n",
    "X_scaled = sc.fit_transform(X)\n",
    "\n",
    "# 6. Split into train/test sets\n",
    "X_train, X_test, y_train, y_test = train_test_split(X_scaled, y, test_size=0.2, random_state=42)\n",
    "\n",
    "# 7. Build model\n",
    "model = Sequential([\n",
    "    Dense(64, activation='relu', input_dim=X_train.shape[1]),\n",
    "    Dense(32, activation='relu'),\n",
    "    Dense(1, activation='sigmoid')\n",
    "])\n",
    "\n",
    "model.compile(optimizer='adam', loss='binary_crossentropy', metrics=['accuracy'])\n",
    "\n",
    "# 8. Train model\n",
    "model.fit(X_train, y_train, epochs=50, batch_size=32, validation_split=0.1)\n",
    "\n",
    "# 9. Save model and scaler\n",
    "model.save(\"models/employee_exit_model.keras\")  # Using .keras format\n",
    "joblib.dump(sc, \"models/scaler.save\")          # Save scaler to use in Streamlit\n",
    "\n",
    "print(\"✅ Model and scaler saved successfully!\")\n"
   ]
  },
  {
   "cell_type": "code",
   "execution_count": 19,
   "id": "cb1c2ec6-66b8-4d1e-bd82-e68f0031ef80",
   "metadata": {},
   "outputs": [
    {
     "data": {
      "text/plain": [
       "8"
      ]
     },
     "execution_count": 19,
     "metadata": {},
     "output_type": "execute_result"
    }
   ],
   "source": [
    "X_train.shape[1]"
   ]
  },
  {
   "cell_type": "code",
   "execution_count": 20,
   "id": "185127f6-69f5-4ae0-875d-41c9730c2ea4",
   "metadata": {},
   "outputs": [
    {
     "data": {
      "text/plain": [
       "Index(['CreditScore', 'Age', 'Tenure', 'Balance', 'NumOfProducts', 'HasCrCard',\n",
       "       'IsActiveMember', 'EstimatedSalary', 'Exited'],\n",
       "      dtype='object')"
      ]
     },
     "execution_count": 20,
     "metadata": {},
     "output_type": "execute_result"
    }
   ],
   "source": [
    "data.columns"
   ]
  },
  {
   "cell_type": "code",
   "execution_count": null,
   "id": "58ce10df-8a21-4000-abea-9a2a22c2c0fc",
   "metadata": {},
   "outputs": [],
   "source": []
  }
 ],
 "metadata": {
  "kernelspec": {
   "display_name": "Python 3 (ipykernel)",
   "language": "python",
   "name": "python3"
  },
  "language_info": {
   "codemirror_mode": {
    "name": "ipython",
    "version": 3
   },
   "file_extension": ".py",
   "mimetype": "text/x-python",
   "name": "python",
   "nbconvert_exporter": "python",
   "pygments_lexer": "ipython3",
   "version": "3.12.7"
  }
 },
 "nbformat": 4,
 "nbformat_minor": 5
}
